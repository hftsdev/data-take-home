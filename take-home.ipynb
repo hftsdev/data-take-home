{
 "cells": [
  {
   "cell_type": "code",
   "execution_count": 2,
   "id": "a0ed9d56-dcf8-473c-81c7-4ddb7b793e2b",
   "metadata": {},
   "outputs": [],
   "source": [
    "from dotenv import load_dotenv\n",
    "from sqlalchemy import create_engine\n",
    "from sklearn import linear_model\n",
    "import json\n",
    "import pandas as pd\n",
    "import pymysql\n",
    "import os"
   ]
  },
  {
   "cell_type": "code",
   "execution_count": 4,
   "id": "a71cab86-1d68-4d38-a863-215bba360721",
   "metadata": {},
   "outputs": [],
   "source": [
    "def CustomParser(data):\n",
    "    return json.loads(data)"
   ]
  },
  {
   "cell_type": "code",
   "execution_count": 34,
   "id": "d223ffd3-819e-4183-aeb9-56b2fd4f2df9",
   "metadata": {},
   "outputs": [],
   "source": [
    "# Read in data and clean JSON column\n",
    "df = pd.read_csv('data.csv', converters={'data':CustomParser}, header=0)\n",
    "\n",
    "# Pull JSON values in to its own column\n",
    "df[sorted(df['data'][0].keys())] = df['data'].apply(pd.Series)\n",
    "\n",
    "# Drop JSON column\n",
    "df.drop('data', axis=1, inplace=True)\n",
    "\n",
    "# Clean Amounts\n",
    "df['amount'] = df['amount'].astype(float).apply(lambda x: x*-1)\n",
    "\n",
    "# Convert Dates\n",
    "df['created_at'] = df['created_at'].astype('datetime64[ns]')"
   ]
  },
  {
   "cell_type": "code",
   "execution_count": 35,
   "id": "c1259d9d-1776-4a06-8308-8bee789ef1d3",
   "metadata": {},
   "outputs": [
    {
     "data": {
      "text/html": [
       "<div>\n",
       "<style scoped>\n",
       "    .dataframe tbody tr th:only-of-type {\n",
       "        vertical-align: middle;\n",
       "    }\n",
       "\n",
       "    .dataframe tbody tr th {\n",
       "        vertical-align: top;\n",
       "    }\n",
       "\n",
       "    .dataframe thead th {\n",
       "        text-align: right;\n",
       "    }\n",
       "</style>\n",
       "<table border=\"1\" class=\"dataframe\">\n",
       "  <thead>\n",
       "    <tr style=\"text-align: right;\">\n",
       "      <th></th>\n",
       "      <th>type</th>\n",
       "      <th>created_at</th>\n",
       "      <th>user_id</th>\n",
       "      <th>amount</th>\n",
       "    </tr>\n",
       "  </thead>\n",
       "  <tbody>\n",
       "    <tr>\n",
       "      <th>0</th>\n",
       "      <td>auth</td>\n",
       "      <td>2021-12-30 03:40:03</td>\n",
       "      <td>600</td>\n",
       "      <td>1.00</td>\n",
       "    </tr>\n",
       "    <tr>\n",
       "      <th>1</th>\n",
       "      <td>auth</td>\n",
       "      <td>2021-12-30 03:49:49</td>\n",
       "      <td>600</td>\n",
       "      <td>1.00</td>\n",
       "    </tr>\n",
       "    <tr>\n",
       "      <th>2</th>\n",
       "      <td>auth</td>\n",
       "      <td>2021-12-31 17:53:21</td>\n",
       "      <td>600</td>\n",
       "      <td>1.95</td>\n",
       "    </tr>\n",
       "    <tr>\n",
       "      <th>3</th>\n",
       "      <td>auth</td>\n",
       "      <td>2021-12-30 00:45:48</td>\n",
       "      <td>595</td>\n",
       "      <td>100.00</td>\n",
       "    </tr>\n",
       "    <tr>\n",
       "      <th>4</th>\n",
       "      <td>auth</td>\n",
       "      <td>2021-12-30 21:52:42</td>\n",
       "      <td>595</td>\n",
       "      <td>100.00</td>\n",
       "    </tr>\n",
       "  </tbody>\n",
       "</table>\n",
       "</div>"
      ],
      "text/plain": [
       "   type          created_at  user_id  amount\n",
       "0  auth 2021-12-30 03:40:03      600    1.00\n",
       "1  auth 2021-12-30 03:49:49      600    1.00\n",
       "2  auth 2021-12-31 17:53:21      600    1.95\n",
       "3  auth 2021-12-30 00:45:48      595  100.00\n",
       "4  auth 2021-12-30 21:52:42      595  100.00"
      ]
     },
     "execution_count": 35,
     "metadata": {},
     "output_type": "execute_result"
    }
   ],
   "source": [
    "df.head()"
   ]
  },
  {
   "cell_type": "code",
   "execution_count": 57,
   "id": "64f21e14-961f-4eb1-8413-adb6149c59c3",
   "metadata": {},
   "outputs": [
    {
     "data": {
      "text/html": [
       "<div>\n",
       "<style scoped>\n",
       "    .dataframe tbody tr th:only-of-type {\n",
       "        vertical-align: middle;\n",
       "    }\n",
       "\n",
       "    .dataframe tbody tr th {\n",
       "        vertical-align: top;\n",
       "    }\n",
       "\n",
       "    .dataframe thead th {\n",
       "        text-align: right;\n",
       "    }\n",
       "</style>\n",
       "<table border=\"1\" class=\"dataframe\">\n",
       "  <thead>\n",
       "    <tr style=\"text-align: right;\">\n",
       "      <th></th>\n",
       "      <th>type</th>\n",
       "      <th>created_at</th>\n",
       "      <th>user_id</th>\n",
       "      <th>amount</th>\n",
       "      <th>year</th>\n",
       "      <th>month</th>\n",
       "      <th>day</th>\n",
       "      <th>week_of_year</th>\n",
       "      <th>day_of_week</th>\n",
       "      <th>day_name</th>\n",
       "      <th>date</th>\n",
       "    </tr>\n",
       "  </thead>\n",
       "  <tbody>\n",
       "    <tr>\n",
       "      <th>0</th>\n",
       "      <td>auth</td>\n",
       "      <td>2021-12-30 03:40:03</td>\n",
       "      <td>600</td>\n",
       "      <td>1.00</td>\n",
       "      <td>2021</td>\n",
       "      <td>12</td>\n",
       "      <td>30</td>\n",
       "      <td>52</td>\n",
       "      <td>3</td>\n",
       "      <td>Thursday</td>\n",
       "      <td>2021-12-30</td>\n",
       "    </tr>\n",
       "    <tr>\n",
       "      <th>1</th>\n",
       "      <td>auth</td>\n",
       "      <td>2021-12-30 03:49:49</td>\n",
       "      <td>600</td>\n",
       "      <td>1.00</td>\n",
       "      <td>2021</td>\n",
       "      <td>12</td>\n",
       "      <td>30</td>\n",
       "      <td>52</td>\n",
       "      <td>3</td>\n",
       "      <td>Thursday</td>\n",
       "      <td>2021-12-30</td>\n",
       "    </tr>\n",
       "    <tr>\n",
       "      <th>2</th>\n",
       "      <td>auth</td>\n",
       "      <td>2021-12-31 17:53:21</td>\n",
       "      <td>600</td>\n",
       "      <td>1.95</td>\n",
       "      <td>2021</td>\n",
       "      <td>12</td>\n",
       "      <td>31</td>\n",
       "      <td>52</td>\n",
       "      <td>4</td>\n",
       "      <td>Friday</td>\n",
       "      <td>2021-12-31</td>\n",
       "    </tr>\n",
       "    <tr>\n",
       "      <th>3</th>\n",
       "      <td>auth</td>\n",
       "      <td>2021-12-30 00:45:48</td>\n",
       "      <td>595</td>\n",
       "      <td>100.00</td>\n",
       "      <td>2021</td>\n",
       "      <td>12</td>\n",
       "      <td>30</td>\n",
       "      <td>52</td>\n",
       "      <td>3</td>\n",
       "      <td>Thursday</td>\n",
       "      <td>2021-12-30</td>\n",
       "    </tr>\n",
       "    <tr>\n",
       "      <th>4</th>\n",
       "      <td>auth</td>\n",
       "      <td>2021-12-30 21:52:42</td>\n",
       "      <td>595</td>\n",
       "      <td>100.00</td>\n",
       "      <td>2021</td>\n",
       "      <td>12</td>\n",
       "      <td>30</td>\n",
       "      <td>52</td>\n",
       "      <td>3</td>\n",
       "      <td>Thursday</td>\n",
       "      <td>2021-12-30</td>\n",
       "    </tr>\n",
       "  </tbody>\n",
       "</table>\n",
       "</div>"
      ],
      "text/plain": [
       "   type          created_at  user_id  amount  year  month  day  week_of_year  \\\n",
       "0  auth 2021-12-30 03:40:03      600    1.00  2021     12   30            52   \n",
       "1  auth 2021-12-30 03:49:49      600    1.00  2021     12   30            52   \n",
       "2  auth 2021-12-31 17:53:21      600    1.95  2021     12   31            52   \n",
       "3  auth 2021-12-30 00:45:48      595  100.00  2021     12   30            52   \n",
       "4  auth 2021-12-30 21:52:42      595  100.00  2021     12   30            52   \n",
       "\n",
       "   day_of_week  day_name        date  \n",
       "0            3  Thursday  2021-12-30  \n",
       "1            3  Thursday  2021-12-30  \n",
       "2            4    Friday  2021-12-31  \n",
       "3            3  Thursday  2021-12-30  \n",
       "4            3  Thursday  2021-12-30  "
      ]
     },
     "execution_count": 57,
     "metadata": {},
     "output_type": "execute_result"
    }
   ],
   "source": [
    "# Build out date & time dimensions\n",
    "df['year'] = df['created_at'].dt.year\n",
    "df['month'] = df['created_at'].dt.month\n",
    "df['day'] = df['created_at'].dt.day\n",
    "df['week_of_year'] = df['created_at'].dt.isocalendar().week\n",
    "df['day_of_week'] = df['created_at'].dt.dayofweek\n",
    "df['day_name'] = df['created_at'].dt.weekday.map({\n",
    "    0: 'Monday', \n",
    "    1: 'Tuesday', \n",
    "    2: 'Wednesday', \n",
    "    3: 'Thursday', \n",
    "    4: 'Friday',\n",
    "    5: 'Saturday', \n",
    "    6: 'Sunday'\n",
    "})\n",
    "df['date'] = df['created_at'].dt.date\n",
    "df.head()"
   ]
  },
  {
   "cell_type": "markdown",
   "id": "25ab09a5-708c-43f9-95f2-0cb4255d95cb",
   "metadata": {},
   "source": [
    "**Question 1**\n",
    "\n",
    "We would like to know a few details about the data set in general:\n",
    "- What is the average transaction value?"
   ]
  },
  {
   "cell_type": "code",
   "execution_count": 25,
   "id": "21665def-164d-4bff-a64a-04f910cb7a74",
   "metadata": {},
   "outputs": [
    {
     "data": {
      "text/plain": [
       "14.11"
      ]
     },
     "execution_count": 25,
     "metadata": {},
     "output_type": "execute_result"
    }
   ],
   "source": [
    "df.amount.mean().round(2)"
   ]
  },
  {
   "cell_type": "markdown",
   "id": "d64ed6ba-3ae5-48c3-93d1-2902184d9eb5",
   "metadata": {},
   "source": [
    "- What is the average transaction value / user?"
   ]
  },
  {
   "cell_type": "code",
   "execution_count": 29,
   "id": "597f9cf5-8dec-41a1-9d1f-e79ba803f230",
   "metadata": {},
   "outputs": [
    {
     "data": {
      "text/plain": [
       "user_id\n",
       "97      21.69\n",
       "101      6.02\n",
       "116     12.53\n",
       "117      5.13\n",
       "123      2.75\n",
       "        ...  \n",
       "456      1.99\n",
       "473     42.29\n",
       "532     12.99\n",
       "595    133.33\n",
       "600      1.32\n",
       "Name: amount, Length: 103, dtype: float64"
      ]
     },
     "execution_count": 29,
     "metadata": {},
     "output_type": "execute_result"
    }
   ],
   "source": [
    "df.groupby('user_id')['amount'].mean().round(2)"
   ]
  },
  {
   "cell_type": "markdown",
   "id": "49b27179-c2b7-4ae4-84b6-ae7edb7f82c0",
   "metadata": {},
   "source": [
    "- How much are users spending per month?"
   ]
  },
  {
   "cell_type": "code",
   "execution_count": 48,
   "id": "1ca760cb-5c57-42e8-8015-de29ef696759",
   "metadata": {},
   "outputs": [
    {
     "data": {
      "text/plain": [
       "month  user_id\n",
       "1      117         31.50\n",
       "       129         40.75\n",
       "       130         29.08\n",
       "       139          4.00\n",
       "       147         25.60\n",
       "                   ...  \n",
       "12     455         49.10\n",
       "       456          1.99\n",
       "       473         42.29\n",
       "       595        100.00\n",
       "       600          1.32\n",
       "Name: amount, Length: 193, dtype: float64"
      ]
     },
     "execution_count": 48,
     "metadata": {},
     "output_type": "execute_result"
    }
   ],
   "source": [
    "df.groupby(['month', 'user_id'])['amount'].mean().round(2)"
   ]
  },
  {
   "cell_type": "markdown",
   "id": "239af2a8-70a4-4581-9b9f-38b65e017910",
   "metadata": {},
   "source": [
    "**Question 2**\n",
    "\n",
    "Please provide a report showing the number of days a user spent per week"
   ]
  },
  {
   "cell_type": "code",
   "execution_count": 56,
   "id": "5f45bad9-d113-4ff3-8db3-3ebc25b31e36",
   "metadata": {},
   "outputs": [
    {
     "data": {
      "text/plain": [
       "user_id  week_of_year\n",
       "97       44              4\n",
       "         45              4\n",
       "         46              3\n",
       "101      48              2\n",
       "         49              1\n",
       "                        ..\n",
       "456      52              1\n",
       "473      52              1\n",
       "532      52              1\n",
       "595      52              2\n",
       "600      52              2\n",
       "Name: day_of_week, Length: 525, dtype: int64"
      ]
     },
     "execution_count": 56,
     "metadata": {},
     "output_type": "execute_result"
    }
   ],
   "source": [
    "df.groupby(['user_id', 'week_of_year'])['day_of_week'].nunique()"
   ]
  },
  {
   "cell_type": "markdown",
   "id": "c0f37c11-7c23-415c-b3d9-4c12b5d2b791",
   "metadata": {},
   "source": [
    "**Question 3**\n",
    "\n",
    "Free range: What other insights do you gather from the data? If you could visualize something you find would be amazing"
   ]
  },
  {
   "cell_type": "code",
   "execution_count": 4,
   "id": "07f5eb96-e204-46df-935b-0a3be0cc62fe",
   "metadata": {},
   "outputs": [],
   "source": [
    "class Database():\n",
    "    '''\n",
    "    Generic database class that serves as a foundation for adding\n",
    "    additional flavors as needed.\n",
    "    '''\n",
    "    def __init__(self, host, database, username, password) -> None:\n",
    "        self._host = host\n",
    "        self._database = database\n",
    "        self._username = username\n",
    "        self._password = password\n",
    "\n",
    "    @property\n",
    "    def host(self) -> str:\n",
    "        return self._host\n",
    "\n",
    "    @host.setter\n",
    "    def host(self, value: str) -> None:\n",
    "        self._host = value\n",
    "\n",
    "    @property\n",
    "    def database(self) -> str:\n",
    "        return self._database\n",
    "\n",
    "    @database.setter\n",
    "    def database(self, value: str) -> None:\n",
    "        self._database = value\n",
    "\n",
    "    @property\n",
    "    def username(self) -> str:\n",
    "        return self._username\n",
    "\n",
    "    @username.setter\n",
    "    def username(self, value: str) -> None:\n",
    "        self._username = value\n",
    "\n",
    "    @property\n",
    "    def password(self) -> str:\n",
    "        return self._password\n",
    "\n",
    "    @password.setter\n",
    "    def password(self, value: str) -> None:\n",
    "        self._password = value\n",
    "\n",
    "class MySQL(Database):\n",
    "    '''\n",
    "    Base MySQL class for interacting with the database.\n",
    "    '''\n",
    "    def __init__(self, host, database, username, password, port: str = '3306'):\n",
    "        super().__init__(host, database, username, password)\n",
    "        self._port = port\n",
    "        self.engine = create_engine(f\"mysql+pymysql://{self.username}:{self.password}@{self.host}/{self.database}\")\n",
    "\n",
    "    @property\n",
    "    def port(self) -> str:\n",
    "        return self._port\n",
    "\n",
    "    @port.setter\n",
    "    def port(self, value: str) -> None:\n",
    "        self._port = value\n",
    "        \n",
    "    def load_df(self, df: pd.DataFrame, table: str) -> None:\n",
    "        conn = self.engine.connect()\n",
    "        try:\n",
    "            df.to_sql(table.lower(), conn, if_exists='append', index=False)\n",
    "        finally:\n",
    "            conn.close()\n",
    "            \n",
    "    def sql_to_df(self, sql: str) -> pd.DataFrame:\n",
    "        conn = self.engine.connect()\n",
    "        df = pd.read_sql(sql, conn)\n",
    "        conn.close()\n",
    "        return df\n",
    "    \n",
    "    def run_sql(self, sql: str) -> None:\n",
    "        conn = self.engine.connect()\n",
    "        conn.execute(sql)\n",
    "        conn.close()"
   ]
  },
  {
   "cell_type": "code",
   "execution_count": 5,
   "id": "f6bd29f8-77cc-47e0-a3c1-5b0c82e67b3c",
   "metadata": {},
   "outputs": [],
   "source": [
    "load_dotenv('.env')\n",
    "ms = MySQL(\n",
    "    host=os.getenv(\"MYSQL_HOST\"),\n",
    "    port=os.getenv(\"MYSQL_PORT\"),\n",
    "    database=os.getenv(\"MYSQL_SCH\"),\n",
    "    username=os.getenv(\"MYSQL_USER\"),\n",
    "    password=os.getenv(\"MYSQL_PASS\")\n",
    ")"
   ]
  },
  {
   "cell_type": "code",
   "execution_count": null,
   "id": "7668e2f5-4789-459c-a9f2-d440e0a98242",
   "metadata": {},
   "outputs": [],
   "source": [
    "ms.load_df(df, 'transactions')"
   ]
  },
  {
   "cell_type": "code",
   "execution_count": 6,
   "id": "457b70cf-ac62-49fe-b8f3-57b45058cc80",
   "metadata": {},
   "outputs": [],
   "source": [
    "# Pull list of users to loop through\n",
    "users = pd.read_sql(\"SELECT user_id FROM users_spend GROUP BY user_id HAVING COUNT(month) > 1 ORDER BY 1\", ms.engine)\n",
    "users = users[\"user_id\"].unique()\n",
    "\n",
    "# Pull training data set\n",
    "training = pd.read_sql(\"SELECT * FROM users_spend WHERE user_id IN (SELECT user_id FROM users_spend GROUP BY user_id HAVING COUNT(month) > 1)\", ms.engine)\n",
    "training['month'] = pd.to_datetime(training['month'])"
   ]
  },
  {
   "cell_type": "code",
   "execution_count": 7,
   "id": "e11006e6-df05-40e9-b267-845ef97848fe",
   "metadata": {},
   "outputs": [
    {
     "name": "stdout",
     "output_type": "stream",
     "text": [
      "user_id: 116 prediction: 54.98\n",
      "user_id: 117 prediction: 304.66\n",
      "user_id: 123 prediction: 0.00\n",
      "user_id: 125 prediction: 4.96\n",
      "user_id: 127 prediction: 2357.44\n",
      "user_id: 129 prediction: 2224.70\n",
      "user_id: 130 prediction: 4450.40\n",
      "user_id: 131 prediction: 68.46\n",
      "user_id: 135 prediction: 0.00\n",
      "user_id: 137 prediction: 4178.95\n",
      "user_id: 139 prediction: 533.63\n",
      "user_id: 144 prediction: 0.00\n",
      "user_id: 150 prediction: 192.63\n",
      "user_id: 151 prediction: 0.00\n",
      "user_id: 153 prediction: 217.06\n",
      "user_id: 154 prediction: 0.00\n",
      "user_id: 155 prediction: 650.67\n",
      "user_id: 164 prediction: 108.07\n",
      "user_id: 167 prediction: 527.72\n",
      "user_id: 168 prediction: 23.43\n",
      "user_id: 172 prediction: 0.00\n",
      "user_id: 174 prediction: 14.75\n",
      "user_id: 175 prediction: 978.53\n",
      "user_id: 178 prediction: 950.73\n",
      "user_id: 180 prediction: 5.81\n",
      "user_id: 181 prediction: 0.00\n",
      "user_id: 184 prediction: 719.06\n",
      "user_id: 185 prediction: 0.71\n",
      "user_id: 196 prediction: 0.00\n",
      "user_id: 200 prediction: 416.23\n",
      "user_id: 201 prediction: 0.00\n",
      "user_id: 205 prediction: 7.14\n",
      "user_id: 206 prediction: 146.81\n",
      "user_id: 207 prediction: 802.36\n",
      "user_id: 208 prediction: 0.00\n",
      "user_id: 209 prediction: 0.00\n",
      "user_id: 219 prediction: 120.16\n",
      "user_id: 221 prediction: 329.75\n",
      "user_id: 224 prediction: 1948.26\n",
      "user_id: 226 prediction: 61.90\n",
      "user_id: 235 prediction: 2.80\n",
      "user_id: 236 prediction: 391.58\n",
      "user_id: 237 prediction: 11.00\n",
      "user_id: 238 prediction: 172.25\n",
      "user_id: 239 prediction: 19.72\n",
      "user_id: 240 prediction: 0.00\n",
      "user_id: 241 prediction: 1897.95\n",
      "user_id: 249 prediction: 0.00\n",
      "user_id: 250 prediction: 71.92\n",
      "user_id: 253 prediction: 243.75\n",
      "user_id: 255 prediction: 7.99\n",
      "user_id: 256 prediction: 316.36\n",
      "user_id: 261 prediction: 0.00\n",
      "user_id: 262 prediction: 59.92\n",
      "user_id: 277 prediction: 24.24\n",
      "user_id: 291 prediction: 225.22\n",
      "user_id: 316 prediction: 215.48\n",
      "user_id: 324 prediction: 849.68\n",
      "user_id: 335 prediction: 5643.72\n",
      "user_id: 346 prediction: 27.61\n",
      "user_id: 352 prediction: 106.29\n",
      "user_id: 354 prediction: 0.00\n",
      "user_id: 356 prediction: 515.41\n",
      "user_id: 358 prediction: 112.79\n",
      "user_id: 367 prediction: 481.45\n",
      "user_id: 378 prediction: 785.58\n",
      "user_id: 379 prediction: 13.57\n",
      "user_id: 383 prediction: 232.42\n"
     ]
    }
   ],
   "source": [
    "for user in users:\n",
    "    temp_df = training[training['user_id']==user].copy(deep=True)\n",
    "    temp_df.set_index('month', inplace=True)\n",
    "    temp_df.insert(0, 'id', range(0, 0 + len(temp_df)))\n",
    "    temp_df.drop('user_id', axis=1, inplace=True)\n",
    "    x = temp_df['id'].values\n",
    "    y = temp_df['amount'].values\n",
    "    x = x.reshape(-1,1)\n",
    "    model = linear_model.LinearRegression().fit(x, y)\n",
    "    linear_model.LinearRegression(copy_X=True, fit_intercept=True, n_jobs=1, normalize=False)\n",
    "    print(f\"user_id: {user} prediction: {0.00 if model.predict([[2]])[0] < 0 else model.predict([[2]])[0]:.2f}\")"
   ]
  }
 ],
 "metadata": {
  "kernelspec": {
   "display_name": "Python 3 (ipykernel)",
   "language": "python",
   "name": "python3"
  },
  "language_info": {
   "codemirror_mode": {
    "name": "ipython",
    "version": 3
   },
   "file_extension": ".py",
   "mimetype": "text/x-python",
   "name": "python",
   "nbconvert_exporter": "python",
   "pygments_lexer": "ipython3",
   "version": "3.8.10"
  }
 },
 "nbformat": 4,
 "nbformat_minor": 5
}
